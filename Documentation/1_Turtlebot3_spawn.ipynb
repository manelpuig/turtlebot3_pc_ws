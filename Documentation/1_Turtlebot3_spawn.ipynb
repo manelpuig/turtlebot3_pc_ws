{
 "metadata": {
  "language_info": {
   "codemirror_mode": {
    "name": "ipython",
    "version": 3
   },
   "file_extension": ".py",
   "mimetype": "text/x-python",
   "name": "python",
   "nbconvert_exporter": "python",
   "pygments_lexer": "ipython3",
   "version": 3
  },
  "orig_nbformat": 2
 },
 "nbformat": 4,
 "nbformat_minor": 2,
 "cells": [
  {
   "source": [
    "## Turtlebot3 robot model and spawn"
   ],
   "cell_type": "markdown",
   "metadata": {}
  },
  {
   "source": [
    "This tutorial course follows the Udemy course:\n",
    "https://github.com/noshluk2/7_Autonomous_driving_navigation_stack\n"
   ],
   "cell_type": "markdown",
   "metadata": {}
  },
  {
   "source": [
    "The objectives are:\n",
    "- Describe the Turtlebot3 wafle robot and spawn in a world\n",
    "- perform Navigation\n",
    "- perform SLAM"
   ],
   "cell_type": "markdown",
   "metadata": {}
  },
  {
   "source": [
    "The Turtlebot3 waffle is very popular and has interesting navigation sensors:\n",
    "- Raspberry pi camera\n",
    "- RPLIDAR"
   ],
   "cell_type": "markdown",
   "metadata": {}
  },
  {
   "source": [
    "<img src=\"./Images/1_turtlebot3.png\">"
   ],
   "cell_type": "markdown",
   "metadata": {}
  },
  {
   "source": [
    "### Install needed packages\n",
    "\n",
    "We need to install different ROS packages to perform Navigation and SLAM"
   ],
   "cell_type": "markdown",
   "metadata": {}
  },
  {
   "cell_type": "code",
   "execution_count": null,
   "metadata": {},
   "outputs": [],
   "source": [
    "sudo apt-get install ros-melodic-navigation\n",
    "sudo apt-get install ros-melodic-slam-gmapping\n",
    "sudo apt-get install ros-melodic-teleop-twist-keyboard\n",
    "sudo apt-get install ros-melodic-turtlebot3-msgs\n",
    "sudo apt-get install ros-melodic-turtlebot3"
   ]
  },
  {
   "source": [
    "### Create the workspace\n",
    "\n",
    "We create now a \"turtlebot3_pc_ws\" workspace to work with two packages:\n",
    "- turtlebot3_simulations \n",
    "- autonomous robots\n",
    "\n",
    "Let's create first the ws:"
   ],
   "cell_type": "markdown",
   "metadata": {}
  },
  {
   "cell_type": "code",
   "execution_count": null,
   "metadata": {},
   "outputs": [],
   "source": [
    "mkdir -p ~/turtlebot3_pc_ws/src\n",
    "cd turtlebot3_pc_ws\n",
    "catkin_make"
   ]
  },
  {
   "source": [
    "Clone the \"turtlebot3_simulations\" package from https://github.com/ROBOTIS-GIT/turtlebot3_simulations\n",
    "\n",
    "This package has to be cloned and compiled every time you download the repository because the git packages are not automatically upload to your github repository. If you want to syncronize and upload the package, you have to delete the \".git\" folder in this package."
   ],
   "cell_type": "markdown",
   "metadata": {}
  },
  {
   "cell_type": "code",
   "execution_count": null,
   "metadata": {},
   "outputs": [],
   "source": [
    "cd ~/turtlebot3_pc_ws/src\n",
    "git clone https://github.com/ROBOTIS-GIT/turtlebot3_simulations.git"
   ]
  },
  {
   "source": [
    "Create a new package \"autonomous_robots\" with rospy, roscpp, std_msgs dependencies"
   ],
   "cell_type": "markdown",
   "metadata": {}
  },
  {
   "cell_type": "code",
   "execution_count": null,
   "metadata": {},
   "outputs": [],
   "source": [
    "catkin_create_pkg autonomous_robots std_msgs rospy roscpp\n",
    "cd ~/turtlebot3_pc_ws\n",
    "catkin_make"
   ]
  },
  {
   "source": [
    "Create in this package folder the following folders:\n",
    "- launch: for launch files\n",
    "- map: for the generated maps in SLAM processes\n",
    "- world: for designed worlds\n",
    "- scripts: for python files to perform speciffic control objectives"
   ],
   "cell_type": "markdown",
   "metadata": {}
  },
  {
   "source": [
    "Finally insert in the .bashrc file the following code lines (verify your IP address)"
   ],
   "cell_type": "markdown",
   "metadata": {}
  },
  {
   "cell_type": "code",
   "execution_count": null,
   "metadata": {},
   "outputs": [],
   "source": [
    "source /opt/ros/melodic/setup.bash\n",
    "source ~/turtlebot3_pc_ws/devel/setup.bash\n",
    "export TURTLEBOT3_MODEL=waffle_pi\n",
    "export ROS_IP=192.168.18.84\n",
    "export ROS_MASTER_URI=http://192.168.18.84:11311\n"
   ]
  },
  {
   "source": [],
   "cell_type": "markdown",
   "metadata": {}
  },
  {
   "source": [
    "There are 2 softwares to simulate the robot behaviour:\n",
    "- rviz: this software is able to view the robot model and all the topic messages information\n",
    "- gazebo: this software is a real dynamic simulator and you will be able to interact physically with a simulated world"
   ],
   "cell_type": "markdown",
   "metadata": {}
  },
  {
   "source": [
    "<img src=\"./Images/1_sw.png\">"
   ],
   "cell_type": "markdown",
   "metadata": {}
  },
  {
   "source": [
    "### Spawn the turtlebot3 robot\n",
    "\n",
    "To spawn our turtlebot3 robot in world we will need to read the TF frames of the different links and joints of the robot and publish them in rviz software. This is done in \"robot_state_publisher\" package."
   ],
   "cell_type": "markdown",
   "metadata": {}
  },
  {
   "source": [
    "<img src=\"./Images/1_spawn.png\">"
   ],
   "cell_type": "markdown",
   "metadata": {}
  },
  {
   "source": [
    "To spawn our turtlebot3 robot in world we will dreate a launch file \"l1_robot.launch\""
   ],
   "cell_type": "markdown",
   "metadata": {}
  },
  {
   "cell_type": "code",
   "execution_count": null,
   "metadata": {},
   "outputs": [],
   "source": [
    "<launch>\n",
    "     <!-- gazebo launch with empty world -->\n",
    "    <include file =\"$(find gazebo_ros)/launch/empty_world.launch\"/>\n",
    "\n",
    "    <!-- uploading urdf robot model into parameter server -->\n",
    "    <param name=\"robot_description\" command=\"$(find xacro)/xacro --inorder $(find turtlebot3_description)/urdf/turtlebot3_waffle_pi.urdf.xacro\"/>  \n",
    "      \n",
    "     <!-- from parameter server spawn model into gazebo  -->\n",
    "    <node pkg=\"gazebo_ros\" type=\"spawn_model\" name=\"spawn_urdf\" args=\"-urdf -model turtlebot3_waffle_pi -param robot_description\">\n",
    "    </node>\n",
    "     <!-- publisher transform for all joint and thier inbetween relations -->\n",
    "    <node pkg=\"robot_state_publisher\" type=\"robot_state_publisher\" name=\"robot_state_publisher\">\n",
    "    <param name =\"publish_frequency\" type=\" double\" value=\"50.0\"/>\n",
    "    </node>\n",
    "    <!-- Running the robot moving node -->\n",
    "    <node pkg=\"teleop_twist_keyboard\" type=\"teleop_twist_keyboard.py\" name=\"teleop_twist_keyboard\">\n",
    "        \n",
    "    </node>\n",
    "\n",
    "</launch>"
   ]
  },
  {
   "source": [
    "- execute this launch file to spawn the robot:\n",
    "\n",
    "roslaunch autonomous_robots l1_robot.launch\n",
    "\n",
    "- you can insert objects in your world to interact with the robot sensors."
   ],
   "cell_type": "markdown",
   "metadata": {}
  },
  {
   "source": [
    "- You can see the topic list\n",
    "\n",
    "- you can open the rviz and view:\n",
    "    - the robot because you have started the \"robot_state_publisher\" node\n",
    "    - the sensor readings (laserscan and camera)"
   ],
   "cell_type": "markdown",
   "metadata": {}
  },
  {
   "source": [
    "<img src=\"./Images/1_gazebo_rviz.png\">"
   ],
   "cell_type": "markdown",
   "metadata": {}
  },
  {
   "source": [
    "To close the gazebo simulation type:\n",
    "\n",
    "killall gzserver && killall gzclient"
   ],
   "cell_type": "markdown",
   "metadata": {}
  },
  {
   "source": [
    "## SLAM\n",
    "\n",
    "Simultaneous Localisation and Mapping techniques are used to autonomous navigate from an initial point to a target point avoiding obstacles. The first step is the mapping generation using speciffic LIDAR sensor.\n",
    "\n",
    "For this purpose a speciffic turtlebot SLAM node has to be launched to generate the map."
   ],
   "cell_type": "markdown",
   "metadata": {}
  },
  {
   "source": [
    "<img src=\"./Images/1_slam.png\">"
   ],
   "cell_type": "markdown",
   "metadata": {}
  },
  {
   "source": [
    "The turtlebot3 SLAM node is created in the \"turtlebot3_slam\" package installed in our ROS environment. The launch file \"turtlebot3_slam.launch\" executes this node to generate the map.\n",
    "\n",
    "Let's create a new \"l2_SLAM.launch\" launch file including the execution of this \"turtlebot3_slam.launch\" file"
   ],
   "cell_type": "markdown",
   "metadata": {}
  },
  {
   "cell_type": "code",
   "execution_count": null,
   "metadata": {},
   "outputs": [],
   "source": [
    "<launch>\n",
    "     <!-- gazebo launch with empty world and loading the new model we have created-->\n",
    "    <include file =\"$(find gazebo_ros)/launch/empty_world.launch\">\n",
    "        <arg name=\"world_name\" value=\"$(find autonomous_robots)/world/office_tb3.world\"/>   \n",
    "    </include>\n",
    "    <!-- uploading urdf robot model into parameter server -->\n",
    "    <param name=\"robot_description\" command=\"$(find xacro)/xacro --inorder $(find turtlebot3_description)/urdf/turtlebot3_waffle_pi.urdf.xacro\"/>  \n",
    "      \n",
    "    <!-- Running the robot moving node -->\n",
    "    <node pkg=\"teleop_twist_keyboard\" type=\"teleop_twist_keyboard.py\" name=\"teleop_twist_keyboard\">\n",
    "    </node>\n",
    "    <!-- Slam Node running for creating map -->\n",
    "    <include file=\"$(find turtlebot3_slam)/launch/turtlebot3_slam.launch\">\n",
    "        <arg name=\"slam_methods\" value=\"gmapping\"/>\n",
    "    </include>    \n",
    "</launch>"
   ]
  },
  {
   "source": [
    "Execute the previous launch file:\n",
    "\n",
    "roslaunch autonomous_robots l2_SLAM.launch"
   ],
   "cell_type": "markdown",
   "metadata": {}
  }
 ]
}