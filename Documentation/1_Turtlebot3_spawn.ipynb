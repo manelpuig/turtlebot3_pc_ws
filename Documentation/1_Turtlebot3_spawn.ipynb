{
 "metadata": {
  "language_info": {
   "codemirror_mode": {
    "name": "ipython",
    "version": 3
   },
   "file_extension": ".py",
   "mimetype": "text/x-python",
   "name": "python",
   "nbconvert_exporter": "python",
   "pygments_lexer": "ipython3",
   "version": 3
  },
  "orig_nbformat": 2
 },
 "nbformat": 4,
 "nbformat_minor": 2,
 "cells": [
  {
   "source": [
    "## Turtlebot3 robot model and spawn"
   ],
   "cell_type": "markdown",
   "metadata": {}
  },
  {
   "source": [
    "This tutorial course follows the Udemy course:\n",
    "https://github.com/noshluk2/7_Autonomous_driving_navigation_stack\n"
   ],
   "cell_type": "markdown",
   "metadata": {}
  },
  {
   "source": [
    "The objectives are:\n",
    "- Describe the Turtlebot3 wafle robot and spawn in a world\n",
    "- perform Navigation\n",
    "- perform SLAM"
   ],
   "cell_type": "markdown",
   "metadata": {}
  },
  {
   "source": [
    "The Turtlebot3 waffle is very popular and has interesting navigation sensors:\n",
    "- Raspberry pi camera\n",
    "- RPLIDAR"
   ],
   "cell_type": "markdown",
   "metadata": {}
  },
  {
   "source": [
    "<img src=\"./Images/1_turtlebot3.png\">"
   ],
   "cell_type": "markdown",
   "metadata": {}
  },
  {
   "source": [
    "First of all we have to install the Turtlebot3 Packages in ROS Melodic\n",
    "\n",
    "sudo apt-get install ros-melodic-turtlebot3-msgs\n",
    "\n",
    "sudo apt-get install ros-melodic-turtlebot3\n",
    "\n",
    "\n",
    "Make a workspace to work:\n",
    "- name: turtlebot3_pc_ws\n",
    "- create a package named \"autonomous robots\"\n",
    "\n",
    "Compile the workspace and make sure about the .bashrc file:"
   ],
   "cell_type": "markdown",
   "metadata": {}
  },
  {
   "cell_type": "code",
   "execution_count": null,
   "metadata": {},
   "outputs": [],
   "source": [
    "source /opt/ros/melodic/setup.bash\n",
    "source ~/turtlebot3_pc_ws/devel/setup.bash\n",
    "export TURTLEBOT3_MODEL=waffle_pi\n",
    "export ROS_IP=192.168.18.84\n",
    "export ROS_MASTER_URI=http://192.168.18.84:11311\n"
   ]
  },
  {
   "source": [
    "Spawn our turtlebot3 robot in world with a launch file \"l1_robot.launch\""
   ],
   "cell_type": "markdown",
   "metadata": {}
  },
  {
   "cell_type": "code",
   "execution_count": null,
   "metadata": {},
   "outputs": [],
   "source": [
    "<launch>\n",
    "     <!-- gazebo launch with empty world -->\n",
    "    <include file =\"$(find gazebo_ros)/launch/empty_world.launch\"/>\n",
    "\n",
    "    <!-- uploading urdf robot model into parameter server -->\n",
    "    <param name=\"robot_description\" command=\"$(find xacro)/xacro --inorder $(find turtlebot3_description)/urdf/turtlebot3_waffle_pi.urdf.xacro\"/>  \n",
    "      \n",
    "     <!-- from parameter server spawn model into gazebo  -->\n",
    "    <node pkg=\"gazebo_ros\" type=\"spawn_model\" name=\"spawn_urdf\" args=\"-urdf -model turtlebot3_waffle_pi -param robot_description\">\n",
    "    </node>\n",
    "     <!-- publisher transform for all joint and thier inbetween relations -->\n",
    "    <node pkg=\"robot_state_publisher\" type=\"robot_state_publisher\" name=\"robot_state_publisher\">\n",
    "    <param name =\"publish_frequency\" type=\" double\" value=\"50.0\"/>\n",
    "    </node>\n",
    "    <!-- Running the robot moving node -->\n",
    "    <node pkg=\"teleop_twist_keyboard\" type=\"teleop_twist_keyboard.py\" name=\"teleop_twist_keyboard\">\n",
    "        \n",
    "    </node>\n",
    "\n",
    "</launch>"
   ]
  },
  {
   "source": [
    "roslaunch autonomous_robots l1_robot.launch"
   ],
   "cell_type": "markdown",
   "metadata": {}
  }
 ]
}