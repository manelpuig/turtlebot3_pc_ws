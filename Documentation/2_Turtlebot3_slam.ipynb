{
 "metadata": {
  "language_info": {
   "codemirror_mode": {
    "name": "ipython",
    "version": 3
   },
   "file_extension": ".py",
   "mimetype": "text/x-python",
   "name": "python",
   "nbconvert_exporter": "python",
   "pygments_lexer": "ipython3",
   "version": 3
  },
  "orig_nbformat": 2
 },
 "nbformat": 4,
 "nbformat_minor": 2,
 "cells": [
  {
   "source": [
    "## SLAM\n",
    "\n",
    "Simultaneous Localisation and Mapping techniques are used to autonomous navigate from an initial point to a target point avoiding obstacles. The first step is the mapping generation using speciffic LIDAR sensor.\n",
    "\n",
    "For this purpose a speciffic turtlebot SLAM node has to be launched to generate the map."
   ],
   "cell_type": "markdown",
   "metadata": {}
  },
  {
   "source": [
    "<img src=\"./Images/1_slam.png\">"
   ],
   "cell_type": "markdown",
   "metadata": {}
  },
  {
   "source": [
    "### World generation\n",
    "\n",
    "First of all, we have to generate the world. We will use the Building Editor:\n",
    "- in a new a terminal open gazebo as superuser (sudo gazebo)\n",
    "- select \"Building Editor\" in edit menu\n",
    "- construct the world\n",
    "- save in model folder with name world1\n",
    "- exit Building Editor\n",
    "- in gazebo insert the world1 model and place it in desired position. You can add other objects if needed\n",
    "- save the final world in world folder with name world1.world"
   ],
   "cell_type": "markdown",
   "metadata": {}
  },
  {
   "source": [
    "<img src=\"./Images/2_02_builder1.png\">"
   ],
   "cell_type": "markdown",
   "metadata": {}
  },
  {
   "source": [
    "<img src=\"./Images/2_03_builder2.png\">"
   ],
   "cell_type": "markdown",
   "metadata": {}
  },
  {
   "source": [
    "The turtlebot3 SLAM node is created in the \"turtlebot3_slam\" package installed in our ROS environment. The launch file \"turtlebot3_slam.launch\" executes this node to generate the map.\n",
    "\n",
    "Let's create a new \"l2_SLAM.launch\" launch file including the execution of this \"turtlebot3_slam.launch\" file"
   ],
   "cell_type": "markdown",
   "metadata": {}
  },
  {
   "cell_type": "code",
   "execution_count": null,
   "metadata": {},
   "outputs": [],
   "source": [
    "<launch>\n",
    "    <!-- gazebo launch with empty world and loading the new model we have created-->\n",
    "    <include file =\"$(find gazebo_ros)/launch/empty_world.launch\">\n",
    "        <arg name=\"world_name\" value=\"$(find autonomous_robots)/world/world1.world\"/>   \n",
    "    </include>\n",
    "    <!-- uploading urdf robot model into parameter server -->\n",
    "    <param name=\"robot_description\" command=\"$(find xacro)/xacro --inorder $(find turtlebot3_description)/urdf/turtlebot3_waffle_pi.urdf.xacro\"/>  \n",
    "     <!-- from parameter server spawn model into gazebo  -->\n",
    "    <node pkg=\"gazebo_ros\" type=\"spawn_model\" name=\"spawn_urdf\" args=\"-urdf -model turtlebot3_waffle_pi -param robot_description\">\n",
    "    </node>      \n",
    "    <!-- Running the robot moving node -->\n",
    "    <node pkg=\"teleop_twist_keyboard\" type=\"teleop_twist_keyboard.py\" name=\"teleop_twist_keyboard\">\n",
    "    </node>\n",
    "    <!-- Slam Node running for creating map -->\n",
    "    <include file=\"$(find turtlebot3_slam)/launch/turtlebot3_slam.launch\">\n",
    "        <arg name=\"slam_methods\" value=\"gmapping\"/>\n",
    "    </include>\n",
    "</launch>"
   ]
  },
  {
   "source": [
    "Execute the previous launch file:\n",
    "\n",
    "roslaunch autonomous_robots l2_SLAM.launch"
   ],
   "cell_type": "markdown",
   "metadata": {}
  },
  {
   "source": [
    "- Navigate with keyboard to generate the map\n",
    "- To save the map in the home directory, type:\n",
    "\n",
    "rosrun map_server map_saver\n",
    "\n",
    "- copy the 2 files generated in the map folder"
   ],
   "cell_type": "markdown",
   "metadata": {}
  },
  {
   "source": [
    "<img src=\"./Images/2_04_map.png\">"
   ],
   "cell_type": "markdown",
   "metadata": {}
  },
  {
   "source": [
    "## Localization\n",
    "\n",
    "Here we will use the map generated and suply it to the EMCL node.\n",
    "\n",
    "The EMCL node will provide us the provabilistic localisation of the robot in the map.\n"
   ],
   "cell_type": "markdown",
   "metadata": {}
  },
  {
   "source": [
    "<img src=\"./Images/2_05_localization.png\">"
   ],
   "cell_type": "markdown",
   "metadata": {}
  },
  {
   "source": [
    "Let's create a launch file "
   ],
   "cell_type": "markdown",
   "metadata": {}
  },
  {
   "cell_type": "code",
   "execution_count": null,
   "metadata": {},
   "outputs": [],
   "source": [
    "<launch>\n",
    "     <!-- gazebo launch with empty world and loading the new model we have created-->\n",
    "    <include file =\"$(find gazebo_ros)/launch/empty_world.launch\">\n",
    "        <arg name=\"world_name\" value=\"$(find autonomous_robots)/world/world1.world\"/>   \n",
    "    </include>\n",
    "    <!-- uploading urdf robot model into parameter server -->\n",
    "    <param name=\"robot_description\" command=\"$(find xacro)/xacro --inorder $(find turtlebot3_description)/urdf/turtlebot3_waffle_pi.urdf.xacro\"/>  \n",
    "    <!-- from parameter server spawn model into gazebo  -->\n",
    "    <node pkg=\"gazebo_ros\" type=\"spawn_model\" name=\"spawn_urdf\" args=\"-urdf -model turtlebot3_waffle_pi -param robot_description\">\n",
    "    </node>      \n",
    "    <!-- Running the robot moving node -->\n",
    "    <node pkg=\"teleop_twist_keyboard\" type=\"teleop_twist_keyboard.py\" name=\"teleop_twist_keyboard\">\n",
    "    </node>\n",
    "    <!-- using the map we saved earlier -->\n",
    "    <arg name=\"map_file\" value=\"$(find autonomous_robots)/map/map.yaml\"/>\n",
    "    <!-- Map_server package is used to handle mapp we saved -->\n",
    "    <node pkg=\"map_server\" type=\"map_server\" name=\"map_server\" args=\"$(arg map_file)\"/>\n",
    "    <!-- Adaptive monto carlo node running -->\n",
    "    <include file=\"$(find turtlebot3_navigation)/launch/amcl.launch\"/>\n",
    "    <!-- Launching Rviz with no saved configuration -->\n",
    "    <node pkg=\"rviz\" type=\"rviz\" name=\"rviz\" args=\"-d $(find autonomous_robots)/rviz/localization.rviz\"/>\n",
    "    <!-- publisher transform for all joint and thier inbetween relations -->\n",
    "    <node pkg=\"robot_state_publisher\" type=\"robot_state_publisher\" name=\"robot_state_publisher\">\n",
    "    <param name =\"publish_frequency\" type=\" double\" value=\"50.0\"/>\n",
    "    </node>\n",
    "</launch>"
   ]
  },
  {
   "cell_type": "code",
   "execution_count": null,
   "metadata": {},
   "outputs": [],
   "source": [
    "roslaunch autonomous_robots l3_Localization.launch"
   ]
  },
  {
   "source": [
    "<img src=\"./Images/2_06_localization2.png\">"
   ],
   "cell_type": "markdown",
   "metadata": {}
  },
  {
   "source": [
    "## Path Planning"
   ],
   "cell_type": "markdown",
   "metadata": {}
  },
  {
   "source": [
    "In this section we will define the goal position the robot has to reach\n",
    "\n",
    "We will add a \"move base\" node that contains 4 set of parameters to autonomous drive towards the target point:\n",
    "- Global Costmap parameters\n",
    "- Local Costmap parameters\n",
    "- Planner parameters\n",
    "- Move_base parameters"
   ],
   "cell_type": "markdown",
   "metadata": {}
  },
  {
   "source": [
    "<img src=\"./Images/2_07_planner1.png\">"
   ],
   "cell_type": "markdown",
   "metadata": {}
  },
  {
   "source": [
    "We perform the following \"l4_PathPlanning.launch\" launch file for Path Planning objective:"
   ],
   "cell_type": "markdown",
   "metadata": {}
  },
  {
   "cell_type": "code",
   "execution_count": null,
   "metadata": {},
   "outputs": [],
   "source": [
    "<launch>\n",
    "    <!-- gazebo launch with empty world and loading the new model we have created-->\n",
    "    <include file =\"$(find gazebo_ros)/launch/empty_world.launch\">\n",
    "        <arg name=\"world_name\" value=\"$(find autonomous_robots)/world/world1.world\"/>   \n",
    "    </include>\n",
    "    <!-- uploading urdf robot model into parameter server -->\n",
    "    <param name=\"robot_description\" command=\"$(find xacro)/xacro --inorder $(find turtlebot3_description)/urdf/turtlebot3_waffle_pi.urdf.xacro\"/>  \n",
    "    <!-- from parameter server spawn model into gazebo  -->\n",
    "    <node pkg=\"gazebo_ros\" type=\"spawn_model\" name=\"spawn_urdf\" args=\"-urdf -model turtlebot3_waffle_pi -param robot_description\">\n",
    "    </node> \n",
    "    <!-- Running the robot moving node -->\n",
    "    <node pkg=\"teleop_twist_keyboard\" type=\"teleop_twist_keyboard.py\" name=\"teleop_twist_keyboard\">\n",
    "    </node>\n",
    "\n",
    "    <!-- using the map we saved earlier -->\n",
    "    <arg name=\"map_file\" value=\"$(find autonomous_robots)/map/map.yaml\"/>\n",
    "    <!-- Map_server package is used to handle mapp we saved -->\n",
    "    <node pkg=\"map_server\" type=\"map_server\" name=\"map_server\" args=\"$(arg map_file)\"/>\n",
    "\n",
    "    <!-- Adaptive monte carlo node running -->\n",
    "    <include file=\"$(find turtlebot3_navigation)/launch/amcl.launch\"/>\n",
    "\n",
    "    <!-- publisher transform for all joint and thier inbetween relations -->\n",
    "    <node pkg=\"robot_state_publisher\" type=\"robot_state_publisher\" name=\"robot_state_publisher\">\n",
    "    <param name =\"publish_frequency\" type=\" double\" value=\"50.0\"/>\n",
    "    </node>\n",
    "    <!-- Setting up the MOVEBASE node and costmaps parameters -->\n",
    "    <node pkg=\"move_base\" type=\"move_base\" name=\"move_base\" respawn=\"false\" output=\"screen\" >\n",
    "        <param name=\"base_local_planner\" value=\"dwa_local_planner/DWAPlannerROS\"/>\n",
    "        <rosparam file=\"$(find turtlebot3_navigation)/param/costmap_common_params_waffle_pi.yaml\" command=\"load\" ns=\"global_costmap\" />\n",
    "        <rosparam file=\"$(find turtlebot3_navigation)/param/costmap_common_params_waffle_pi.yaml\" command=\"load\" ns=\"local_costmap\" />\n",
    "        <rosparam file=\"$(find turtlebot3_navigation)/param/local_costmap_params.yaml\" command=\"load\"/>\n",
    "        <rosparam file=\"$(find turtlebot3_navigation)/param/global_costmap_params.yaml\" command=\"load\"/>\n",
    "        <rosparam file=\"$(find turtlebot3_navigation)/param/move_base_params.yaml\" command=\"load\"/>\n",
    "        <rosparam file=\"$(find turtlebot3_navigation)/param/dwa_local_planner_params_waffle_pi.yaml\" command=\"load\"/>\n",
    "        <remap from=\"cmd_vel\" to=\"/cmd_vel\"/>\n",
    "        <remap from=\"odom\" to=\"odom\"/>\n",
    "        <param name=\"DWAPlannerROS/min_vel_x\" value=\"0.0\" if =\"false\"/>\n",
    "    </node>  \n",
    "    <!-- Launching Rviz with saved configuration -->\n",
    "    <node pkg=\"rviz\" type=\"rviz\" name=\"rviz\" required=\"true\" args=\"-d $(find turtlebot3_navigation)/rviz/turtlebot3_navigation.rviz\"/>\n",
    "</launch>"
   ]
  },
  {
   "cell_type": "code",
   "execution_count": null,
   "metadata": {},
   "outputs": [],
   "source": [
    "roslaunch autonomous_robots l4_PathPlanning.launch"
   ]
  },
  {
   "source": [
    "<img src=\"./Images/2_08_planner2.png\">"
   ],
   "cell_type": "markdown",
   "metadata": {}
  },
  {
   "source": [
    "## Exercise: Go to goal"
   ],
   "cell_type": "markdown",
   "metadata": {}
  },
  {
   "source": [
    "The objective is that the robot goes to a specific goal POSE"
   ],
   "cell_type": "markdown",
   "metadata": {}
  },
  {
   "source": [
    "- Let's move the robot to speciffic location using the keyboard:\n",
    "\n",
    "roslaunch autonomous_robots l4_PathPlanning.launch\n",
    "\n",
    "- Open a terminal and find the odometry of the target choosen position.\n",
    "\n",
    "rostopic echo /odom -n1\n",
    "\n",
    "- You can take now the POSE to program this movement to the target POSE"
   ],
   "cell_type": "markdown",
   "metadata": {}
  },
  {
   "source": [
    "<img src=\"./Images/2_09_go2goal1.png\">"
   ],
   "cell_type": "markdown",
   "metadata": {}
  },
  {
   "source": [
    "we can see all the topics running. The one that contains the desired target goal is /move_base/goal\n",
    "\n",
    "type: rostopic info /move_base/goal\n",
    "\n",
    "type: rosmsg show move_base_msgs/MoveBaseActionGoal\n",
    "\n",
    "We will see the structure of the message to construct the desired goal message in python."
   ],
   "cell_type": "markdown",
   "metadata": {}
  },
  {
   "cell_type": "code",
   "execution_count": null,
   "metadata": {},
   "outputs": [],
   "source": [
    "mpuig@mpuig-vb:~$ rosmsg show move_base_msgs/MoveBaseGoal \n",
    "geometry_msgs/PoseStamped target_pose\n",
    "  std_msgs/Header header\n",
    "    uint32 seq\n",
    "    time stamp\n",
    "    string frame_id\n",
    "  geometry_msgs/Pose pose\n",
    "    geometry_msgs/Point position\n",
    "      float64 x\n",
    "      float64 y\n",
    "      float64 z\n",
    "    geometry_msgs/Quaternion orientation\n",
    "      float64 x\n",
    "      float64 y\n",
    "      float64 z\n",
    "      float64 w"
   ]
  },
  {
   "source": [
    "Now generate the \"go_2_goal.py\" python file with this target POSE:"
   ],
   "cell_type": "markdown",
   "metadata": {}
  },
  {
   "cell_type": "code",
   "execution_count": null,
   "metadata": {},
   "outputs": [],
   "source": [
    "#!/usr/bin/env python\n",
    "# license removed for brevity\n",
    "\n",
    "import rospy\n",
    "import actionlib\n",
    "from move_base_msgs.msg import MoveBaseAction, MoveBaseGoal\n",
    "\n",
    "def movebase_client():\n",
    "\n",
    "    client = actionlib.SimpleActionClient('move_base',MoveBaseAction)\n",
    "    client.wait_for_server()\n",
    "\n",
    "    goal = MoveBaseGoal()\n",
    "    goal.target_pose.header.frame_id = \"map\"\n",
    "    goal.target_pose.header.stamp = rospy.Time.now()\n",
    "    goal.target_pose.pose.position.x = 0.2500000\n",
    "    goal.target_pose.pose.position.y = 0.9000000\n",
    "    goal.target_pose.pose.position.z = -0.00100955\n",
    "    goal.target_pose.pose.orientation.z = 0.998917586\n",
    "    goal.target_pose.pose.orientation.w = 0.1000000\n",
    "\n",
    "    client.send_goal(goal)\n",
    "    wait = client.wait_for_result()\n",
    "    if not wait:\n",
    "        rospy.logerr(\"Action server DOWN ;/ \")\n",
    "    else:\n",
    "        return client.get_result()\n",
    "\n",
    "if __name__ == '__main__':\n",
    "    try:\n",
    "        rospy.init_node('movebaseClient')\n",
    "        result = movebase_client()\n",
    "        if result:\n",
    "            rospy.loginfo(\"Goal is EXECUTED :l \")\n",
    "    except rospy.ROSInterruptException:\n",
    "        rospy.loginfo(\"Navigation DONE \")"
   ]
  },
  {
   "source": [
    "- Make this python file executable \n",
    "\n",
    "chmod +x *\n",
    "\n",
    "- Execute the python file:\n",
    "\n",
    "rosrun autonomous_robots go_to_goal.py"
   ],
   "cell_type": "markdown",
   "metadata": {}
  },
  {
   "source": [
    "<img src=\"./Images/2_11_go2goal1.png\">"
   ],
   "cell_type": "markdown",
   "metadata": {}
  },
  {
   "source": [
    "### Exercise: goal sequence\n",
    "\n",
    "We will program now a sequence of target POSEs to reach with the turtlebot3 robot"
   ],
   "cell_type": "markdown",
   "metadata": {}
  },
  {
   "cell_type": "code",
   "execution_count": null,
   "metadata": {},
   "outputs": [],
   "source": [
    "#!/usr/bin/env python\n",
    "# license removed for brevity\n",
    "\n",
    "import rospy\n",
    "import actionlib\n",
    "from move_base_msgs.msg import MoveBaseAction, MoveBaseGoal\n",
    "\n",
    "def movebase_client():\n",
    "\n",
    "    client = actionlib.SimpleActionClient('move_base',MoveBaseAction)\n",
    "    client.wait_for_server()\n",
    "    # Sequence\n",
    "    goal_seq=[0 , 0.9 , -0.001,\n",
    "              1 , 0 , -0.0010,\n",
    "              0 , 0 ,-0.0010,\n",
    "              1 , 1 , -0.001] # at the end \n",
    "\n",
    "    goal = MoveBaseGoal()\n",
    "    goal.target_pose.header.frame_id = \"map\"\n",
    "    goal.target_pose.header.stamp = rospy.Time.now()\n",
    "\n",
    "    # Looping in sequence\n",
    "    for i in range(0,3):\n",
    "        goal = MoveBaseGoal()\n",
    "        goal.target_pose.header.frame_id = \"map\"\n",
    "        goal.target_pose.header.stamp = rospy.Time.now()\n",
    "        goal.target_pose.pose.position.x = goal_seq[0+i*3]\n",
    "        goal.target_pose.pose.position.y = goal_seq[1+i*3]\n",
    "        goal.target_pose.pose.position.z = goal_seq[2+i*3]\n",
    "        goal.target_pose.pose.orientation.w = 0 # fixed angles\n",
    "        goal.target_pose.pose.orientation.z = 1 # of robot position for all goals\n",
    "\n",
    "        client.send_goal(goal)\n",
    "        wait = client.wait_for_result()\n",
    "        if not wait:\n",
    "            rospy.logerr(\"Action server DOWN ;/ \")\n",
    "        else:\n",
    "            print(\"A Goal is Executed\") \n",
    "        # looping each goal update as \n",
    "        # it end here if no loop is used\n",
    "    return 1\n",
    "if __name__ == '__main__':\n",
    "    try:\n",
    "        rospy.init_node('movebaseClient')\n",
    "        result = movebase_client()\n",
    "        if result:\n",
    "            rospy.loginfo(\"All Goals executed \")\n",
    "    except rospy.ROSInterruptException:\n",
    "        rospy.loginfo(\"Navigation DONE \")"
   ]
  },
  {
   "source": [
    "- Let's start with localization launch file: \n",
    "\n",
    "roslaunch autonomous_robots l4_PathPlanning.launch\n",
    "\n",
    "- Execute the python file:\n",
    "\n",
    "rosrun autonomous_robots goal_sequence.py"
   ],
   "cell_type": "markdown",
   "metadata": {}
  },
  {
   "source": [
    "<img src=\"./Images/2_13_goal_sequence1.png\">"
   ],
   "cell_type": "markdown",
   "metadata": {}
  },
  {
   "source": [
    "<img src=\"./Images/2_14_goal_sequence2.png\">"
   ],
   "cell_type": "markdown",
   "metadata": {}
  },
  {
   "source": [
    "<img src=\"./Images/2_15_goal_sequence3.png\">"
   ],
   "cell_type": "markdown",
   "metadata": {}
  }
 ]
}