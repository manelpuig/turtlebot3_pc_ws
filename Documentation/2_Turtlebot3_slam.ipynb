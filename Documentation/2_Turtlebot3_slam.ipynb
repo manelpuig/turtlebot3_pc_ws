{
 "metadata": {
  "language_info": {
   "codemirror_mode": {
    "name": "ipython",
    "version": 3
   },
   "file_extension": ".py",
   "mimetype": "text/x-python",
   "name": "python",
   "nbconvert_exporter": "python",
   "pygments_lexer": "ipython3",
   "version": 3
  },
  "orig_nbformat": 2
 },
 "nbformat": 4,
 "nbformat_minor": 2,
 "cells": [
  {
   "source": [
    "## SLAM\n",
    "\n",
    "Simultaneous Localisation and Mapping techniques are used to autonomous navigate from an initial point to a target point avoiding obstacles. The first step is the mapping generation using speciffic LIDAR sensor.\n",
    "\n",
    "For this purpose a speciffic turtlebot SLAM node has to be launched to generate the map."
   ],
   "cell_type": "markdown",
   "metadata": {}
  },
  {
   "source": [
    "<img src=\"./Images/1_slam.png\">"
   ],
   "cell_type": "markdown",
   "metadata": {}
  },
  {
   "source": [
    "### World generation\n",
    "\n",
    "First of all, we have to generate the world. We will use the Building Editor:\n",
    "- in a new a terminal open gazebo as superuser (sudo gazebo)\n",
    "- select \"Building Editor\" in edit menu\n",
    "- construct the world\n",
    "- save in model folder with name world1\n",
    "- exit Building Editor\n",
    "- in gazebo insert the world1 model and place it in desired position. You can add other objects if needed\n",
    "- save the final world in world folder with name world1.world"
   ],
   "cell_type": "markdown",
   "metadata": {}
  },
  {
   "source": [
    "<img src=\"./Images/2_02_builder1.png\">"
   ],
   "cell_type": "markdown",
   "metadata": {}
  },
  {
   "source": [
    "<img src=\"./Images/2_03_builder2.png\">"
   ],
   "cell_type": "markdown",
   "metadata": {}
  },
  {
   "source": [
    "The turtlebot3 SLAM node is created in the \"turtlebot3_slam\" package installed in our ROS environment. The launch file \"turtlebot3_slam.launch\" executes this node to generate the map.\n",
    "\n",
    "Let's create a new \"l2_SLAM.launch\" launch file including the execution of this \"turtlebot3_slam.launch\" file"
   ],
   "cell_type": "markdown",
   "metadata": {}
  },
  {
   "cell_type": "code",
   "execution_count": null,
   "metadata": {},
   "outputs": [],
   "source": [
    "<launch>\n",
    "    <!-- gazebo launch with empty world and loading the new model we have created-->\n",
    "    <include file =\"$(find gazebo_ros)/launch/empty_world.launch\">\n",
    "        <arg name=\"world_name\" value=\"$(find autonomous_robots)/world/world1.world\"/>   \n",
    "    </include>\n",
    "    <!-- uploading urdf robot model into parameter server -->\n",
    "    <param name=\"robot_description\" command=\"$(find xacro)/xacro --inorder $(find turtlebot3_description)/urdf/turtlebot3_waffle_pi.urdf.xacro\"/>  \n",
    "     <!-- from parameter server spawn model into gazebo  -->\n",
    "    <node pkg=\"gazebo_ros\" type=\"spawn_model\" name=\"spawn_urdf\" args=\"-urdf -model turtlebot3_waffle_pi -param robot_description\">\n",
    "    </node>      \n",
    "    <!-- Running the robot moving node -->\n",
    "    <node pkg=\"teleop_twist_keyboard\" type=\"teleop_twist_keyboard.py\" name=\"teleop_twist_keyboard\">\n",
    "    </node>\n",
    "    <!-- Slam Node running for creating map -->\n",
    "    <include file=\"$(find turtlebot3_slam)/launch/turtlebot3_slam.launch\">\n",
    "        <arg name=\"slam_methods\" value=\"gmapping\"/>\n",
    "    </include>\n",
    "</launch>"
   ]
  },
  {
   "source": [
    "Execute the previous launch file:\n",
    "\n",
    "roslaunch autonomous_robots l2_SLAM.launch"
   ],
   "cell_type": "markdown",
   "metadata": {}
  },
  {
   "source": [
    "- Navigate with keyboard to generate the map\n",
    "- To save the map in the home directory, type:\n",
    "\n",
    "rosrun map_server map_saver\n",
    "\n",
    "- copy the 2 files generated in the map folder"
   ],
   "cell_type": "markdown",
   "metadata": {}
  },
  {
   "source": [
    "<img src=\"./Images/2_04_map.png\">"
   ],
   "cell_type": "markdown",
   "metadata": {}
  },
  {
   "source": [
    "## Localization\n",
    "\n",
    "Here we will use the map generated and suply it to the EMCL node.\n",
    "\n",
    "The EMCL node will provide us the provabilistic localisation of the robot in the map.\n"
   ],
   "cell_type": "markdown",
   "metadata": {}
  },
  {
   "source": [
    "<img src=\"./Images/2_05_localization.png\">"
   ],
   "cell_type": "markdown",
   "metadata": {}
  },
  {
   "source": [
    "Let's create a launch file "
   ],
   "cell_type": "markdown",
   "metadata": {}
  },
  {
   "cell_type": "code",
   "execution_count": null,
   "metadata": {},
   "outputs": [],
   "source": [
    "<launch>\n",
    "     <!-- gazebo launch with empty world and loading the new model we have created-->\n",
    "    <include file =\"$(find gazebo_ros)/launch/empty_world.launch\">\n",
    "        <arg name=\"world_name\" value=\"$(find autonomous_robots)/world/world1.world\"/>   \n",
    "    </include>\n",
    "    <!-- uploading urdf robot model into parameter server -->\n",
    "    <param name=\"robot_description\" command=\"$(find xacro)/xacro --inorder $(find turtlebot3_description)/urdf/turtlebot3_waffle_pi.urdf.xacro\"/>  \n",
    "    <!-- from parameter server spawn model into gazebo  -->\n",
    "    <node pkg=\"gazebo_ros\" type=\"spawn_model\" name=\"spawn_urdf\" args=\"-urdf -model turtlebot3_waffle_pi -param robot_description\">\n",
    "    </node>      \n",
    "    <!-- Running the robot moving node -->\n",
    "    <node pkg=\"teleop_twist_keyboard\" type=\"teleop_twist_keyboard.py\" name=\"teleop_twist_keyboard\">\n",
    "    </node>\n",
    "    <!-- using the map we saved earlier -->\n",
    "    <arg name=\"map_file\" value=\"$(find autonomous_robots)/map/map.yaml\"/>\n",
    "    <!-- Map_server package is used to handle mapp we saved -->\n",
    "    <node pkg=\"map_server\" type=\"map_server\" name=\"map_server\" args=\"$(arg map_file)\"/>\n",
    "    <!-- Adaptive monto carlo node running -->\n",
    "    <include file=\"$(find turtlebot3_navigation)/launch/amcl.launch\"/>\n",
    "    <!-- Launching Rviz with no saved configuration -->\n",
    "    <node pkg=\"rviz\" type=\"rviz\" name=\"rviz\" args=\"-d $(find autonomous_robots)/rviz/localization.rviz\"/>\n",
    "    <!-- publisher transform for all joint and thier inbetween relations -->\n",
    "    <node pkg=\"robot_state_publisher\" type=\"robot_state_publisher\" name=\"robot_state_publisher\">\n",
    "    <param name =\"publish_frequency\" type=\" double\" value=\"50.0\"/>\n",
    "    </node>\n",
    "</launch>"
   ]
  },
  {
   "cell_type": "code",
   "execution_count": null,
   "metadata": {},
   "outputs": [],
   "source": [
    "roslaunch autonomous_robots l3_Localization.launch"
   ]
  },
  {
   "source": [
    "<img src=\"./Images/2_06_localization2.png\">"
   ],
   "cell_type": "markdown",
   "metadata": {}
  },
  {
   "cell_type": "code",
   "execution_count": null,
   "metadata": {},
   "outputs": [],
   "source": []
  }
 ]
}